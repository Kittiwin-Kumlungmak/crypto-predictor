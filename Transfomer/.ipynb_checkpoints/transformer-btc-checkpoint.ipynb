{
 "cells": [
  {
   "cell_type": "code",
   "execution_count": 1,
   "metadata": {},
   "outputs": [],
   "source": [
    "import pandas as pd\n",
    "import numpy as np\n",
    "import math\n",
    "from torch.utils.data import Dataset, DataLoader\n",
    "from sklearn.preprocessing import MinMaxScaler\n",
    "import torch\n",
    "from DataLoader import Dataset\n",
    "from Model import Transformer, AdamWarmup\n",
    "from train import train\n",
    "import torch.nn as nn\n",
    "from joblib import load\n",
    "from tools import *"
   ]
  },
  {
   "cell_type": "code",
   "execution_count": 2,
   "metadata": {},
   "outputs": [
    {
     "name": "stdout",
     "output_type": "stream",
     "text": [
      "Pred:\t tensor([[[ 0.1300],\n",
      "         [ 0.1114],\n",
      "         [ 0.3893],\n",
      "         [ 0.4345],\n",
      "         [ 0.5081],\n",
      "         [ 0.4628],\n",
      "         [ 0.6947],\n",
      "         [ 0.5583],\n",
      "         [ 0.5123],\n",
      "         [ 0.4799],\n",
      "         [ 0.4612],\n",
      "         [ 0.4565],\n",
      "         [ 0.2227],\n",
      "         [ 0.2715],\n",
      "         [ 0.1824],\n",
      "         [ 0.2432],\n",
      "         [ 0.1002],\n",
      "         [-0.0013],\n",
      "         [ 0.0156],\n",
      "         [-0.0159],\n",
      "         [ 0.0019],\n",
      "         [-0.3373],\n",
      "         [-0.1670],\n",
      "         [-0.2358]]], dtype=torch.float64, grad_fn=<AddBackward0>)\n",
      "Target:\t tensor([[[0.0057]]], dtype=torch.float64)\n",
      "Loss:\t tensor([[[1.5444e-02],\n",
      "         [1.1170e-02],\n",
      "         [1.4716e-01],\n",
      "         [1.8392e-01],\n",
      "         [2.5237e-01],\n",
      "         [2.0898e-01],\n",
      "         [4.7467e-01],\n",
      "         [3.0538e-01],\n",
      "         [2.5668e-01],\n",
      "         [2.2484e-01],\n",
      "         [2.0752e-01],\n",
      "         [2.0323e-01],\n",
      "         [4.7113e-02],\n",
      "         [7.0656e-02],\n",
      "         [3.1240e-02],\n",
      "         [5.6427e-02],\n",
      "         [8.9356e-03],\n",
      "         [4.8242e-05],\n",
      "         [9.7772e-05],\n",
      "         [4.6805e-04],\n",
      "         [1.4115e-05],\n",
      "         [1.1767e-01],\n",
      "         [2.9822e-02],\n",
      "         [5.8323e-02]]], dtype=torch.float64, grad_fn=<MseLossBackward>)\n"
     ]
    },
    {
     "name": "stderr",
     "output_type": "stream",
     "text": [
      "/opt/anaconda3/lib/python3.8/site-packages/torch/nn/modules/loss.py:528: UserWarning: Using a target size (torch.Size([1, 1, 1])) that is different to the input size (torch.Size([1, 24, 1])). This will likely lead to incorrect results due to broadcasting. Please ensure they have the same size.\n",
      "  return F.mse_loss(input, target, reduction=self.reduction)\n"
     ]
    }
   ],
   "source": [
    "epochs = 50\n",
    "d_model = 8\n",
    "nhead = 8\n",
    "num_layer = 3\n",
    "len_input = 24\n",
    "len_output = 1\n",
    "device = torch.device('cuda' if torch.cuda.is_available() else 'cpu')\n",
    "\n",
    "train_dataset = Dataset('Data/train-btc-dataset.csv', len_input)\n",
    "train_loader = DataLoader(train_dataset, batch_size= 1)\n",
    "\n",
    "model = Transformer(d_model,\n",
    "                    nhead = nhead,\n",
    "                    num_encode_layer= num_layer,\n",
    "                    num_decode_layer= num_layer,\n",
    "                    dim_feedforward=2048,\n",
    "                    len_output = len_output,\n",
    "                    dropout= 0.1,\n",
    "                    batch_first= True)\n",
    "\n",
    "model.double().to(device)\n",
    "adam_optimizer = torch.optim.Adam(model.parameters(), lr = 0, betas=(0.9,0.98), eps = 1e-9)\n",
    "adam_warmup= AdamWarmup(d_model, warmup_steps= 400, optimizer= adam_optimizer)\n",
    "criterion = nn.MSELoss(reduction='none')\n",
    "\n",
    "loss_hist = []\n",
    "\n",
    "for epoch in range(epochs):\n",
    "    loss = train(dataloader= train_loader,\n",
    "                len_input= len_input,\n",
    "                len_output= len_output,\n",
    "                model= model,\n",
    "                optim= adam_warmup,\n",
    "                criterion= criterion,\n",
    "                epoch= epoch,\n",
    "                device= device)\n",
    "    break\n",
    "    state = {\n",
    "        'epoch': epoch + 1,\n",
    "        'model': model,\n",
    "        'optimizer': adam_optimizer,\n",
    "        'training loss': loss\n",
    "    }\n",
    "\n",
    "    torch.save(state, 'checkpoints/epoch-{}.tar'.format(epoch+1))\n",
    "\n",
    "    loss_hist.append(loss)\n",
    "    if early_stop(loss_hist, patience= 5):\n",
    "        break\n"
   ]
  },
  {
   "cell_type": "code",
   "execution_count": null,
   "metadata": {},
   "outputs": [],
   "source": [
    "import matplotlib.pyplot as plt\n",
    "\n",
    "plt.figure(figsize=(15,8))\n",
    "plt.plot(loss_hist)"
   ]
  },
  {
   "cell_type": "code",
   "execution_count": null,
   "metadata": {},
   "outputs": [],
   "source": [
    "d_model = 8\n",
    "nhead = 8\n",
    "num_layer = 3\n",
    "len_input = 24\n",
    "len_output = 1\n",
    "device = torch.device('cuda' if torch.cuda.is_available() else 'cpu')\n",
    "scaler = load('train-scaler.joblib')\n",
    "\n",
    "model = Transformer(d_model,\n",
    "                    nhead = nhead,\n",
    "                    num_encode_layer= num_layer,\n",
    "                    num_decode_layer= num_layer,\n",
    "                    dim_feedforward=2048,\n",
    "                    len_output = len_output,\n",
    "                    dropout= 0.1,\n",
    "                    batch_first= True)\n",
    "\n",
    "best_state = torch.load('checkpoints/epoch-10.tar')\n",
    "model.load_state_dict(best_state['model'].state_dict())\n",
    "\n",
    "model.double().to(device)\n",
    "adam_optimizer = torch.optim.Adam(model.parameters(), lr = 0, betas=(0.9,0.98), eps = 1e-9)\n",
    "adam_warmup= AdamWarmup(d_model, warmup_steps= 400, optimizer= adam_optimizer)\n",
    "criterion = nn.MSELoss(reduction= 'none')\n",
    "\n",
    "from validate import validate\n",
    "\n",
    "val_dataset = Dataset('Data/valid-btc-dataset.csv', len_input)\n",
    "val_loader = DataLoader(val_dataset, batch_size= 1)\n",
    "\n",
    "pred_hist, loss_hist = validate(val_loader, len_input, len_output, model, criterion, device)"
   ]
  },
  {
   "cell_type": "code",
   "execution_count": null,
   "metadata": {},
   "outputs": [],
   "source": [
    "import matplotlib.pyplot as plt\n",
    "scaler = load('train-scaler.joblib')\n",
    "for i in range(len(pred_hist)):\n",
    "    pred_hist[i] /= scaler.scale_[0]\n",
    "plt.plot(pred_hist)\n",
    "\n"
   ]
  },
  {
   "cell_type": "code",
   "execution_count": null,
   "metadata": {},
   "outputs": [],
   "source": [
    "val_df = pd.read_csv('Data/valid-btc-raw.csv')\n",
    "plt.plot(val_df['Close'])\n",
    "plt.plot(pred_hist)"
   ]
  },
  {
   "cell_type": "code",
   "execution_count": null,
   "metadata": {},
   "outputs": [],
   "source": []
  }
 ],
 "metadata": {
  "interpreter": {
   "hash": "40d3a090f54c6569ab1632332b64b2c03c39dcf918b08424e98f38b5ae0af88f"
  },
  "kernelspec": {
   "display_name": "Python 3.8.8 64-bit ('base': conda)",
   "name": "python3"
  },
  "language_info": {
   "codemirror_mode": {
    "name": "ipython",
    "version": 3
   },
   "file_extension": ".py",
   "mimetype": "text/x-python",
   "name": "python",
   "nbconvert_exporter": "python",
   "pygments_lexer": "ipython3",
   "version": "3.8.8"
  },
  "orig_nbformat": 4
 },
 "nbformat": 4,
 "nbformat_minor": 2
}
