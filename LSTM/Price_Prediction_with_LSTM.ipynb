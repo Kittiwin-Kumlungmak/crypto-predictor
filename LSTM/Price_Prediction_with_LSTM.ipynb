{
 "cells": [
  {
   "cell_type": "code",
   "execution_count": 1,
   "id": "89edf6f8",
   "metadata": {},
   "outputs": [],
   "source": [
    "import pandas as pd\n",
    "import numpy as np\n",
    "import pandas_datareader.data as web\n",
    "import torch\n",
    "import torch.nn as nn\n",
    "import matplotlib.pyplot as plt\n",
    "%matplotlib inline"
   ]
  },
  {
   "cell_type": "code",
   "execution_count": 6,
   "id": "f09205bd",
   "metadata": {},
   "outputs": [],
   "source": [
    "#train_validate_test_split\n",
    "def train_valid_test_split(X, y, split_size= (0.7, 0.15, 0.15)):\n",
    "    loc_1 = round(len(X) * split_size[0])\n",
    "    loc_2 = round(len(X) * (1-split_size[2]))\n",
    "    X_train = X[:loc_1]\n",
    "    X_valid = X[loc_1:loc_2]\n",
    "    X_test = X[loc_2:]\n",
    "    y_train = y[:loc_1]\n",
    "    y_valid = y[loc_1:loc_2]\n",
    "    y_test = y[loc_2:]\n",
    "    return X_train, X_valid, X_test, y_train, y_valid, y_test"
   ]
  },
  {
   "cell_type": "code",
   "execution_count": 13,
   "id": "fa0da055",
   "metadata": {},
   "outputs": [],
   "source": [
    "#re-arrange data into multiple batch based on timestep size\n",
    "def timestep_batch(X, y, timestep):\n",
    "    X_data = []\n",
    "    y_data = []\n",
    "    for i in range(timestep, len(X)):\n",
    "        X_data.append(X[i-timestep : i])\n",
    "        y_data.append(y[i])\n",
    "    \n",
    "    X_data = torch.DoubleTensor(X_data)\n",
    "    y_data = torch.DoubleTensor(y_data)\n",
    "    return X_data, y_data"
   ]
  },
  {
   "cell_type": "code",
   "execution_count": 30,
   "id": "9d71ab21",
   "metadata": {},
   "outputs": [],
   "source": [
    "def callback(model, optim, epoch, loss, valid_loss):\n",
    "    checkpoint = {\n",
    "        'epoch': epoch+1,\n",
    "        'loss': loss,\n",
    "        'valid_loss': valid_loss,\n",
    "        'param': model.state_dict(),\n",
    "        'optim': optim.state_dict()\n",
    "    }\n",
    "    return checkpoint"
   ]
  },
  {
   "cell_type": "code",
   "execution_count": 76,
   "id": "3fc585ce",
   "metadata": {},
   "outputs": [],
   "source": [
    "def fit_lstm(X_train_data, y_train_data, X_valid_data, y_valid_data,\n",
    "             num_layer, batch_size, hidden_size,\n",
    "             lstm, loss_fn, optimizer,\n",
    "             num_epoch, start_epoch=0):\n",
    "    \n",
    "    train_hist = []\n",
    "    end_epoch = start_epoch + num_epoch\n",
    "    \n",
    "    for epoch in range(start_epoch, end_epoch):\n",
    "        #initialize hidden and cell state of lstm to zeros tensor\n",
    "        state_in = (torch.zeros(num_layer, batch_size, hidden_size).double(),\n",
    "                    torch.zeros(num_layer, batch_size, hidden_size).double()\n",
    "                   )\n",
    "    \n",
    "        #training\n",
    "        for i in range(X_train_data.size(0)):\n",
    "            inputs = X_train_data[i].view(1,timestep,1)\n",
    "            targets = y_train_data[i]\n",
    "            #forward propagation\n",
    "            output, _ = lstm.forward(inputs.double(), state_in)\n",
    "            #calculate Loss\n",
    "            loss = loss_fn(output.view(1), targets.view(1))\n",
    "            #backpropagation\n",
    "            optimizer.zero_grad()\n",
    "            loss.backward()\n",
    "            #weight update\n",
    "            optimizer.step()\n",
    "\n",
    "        #validating\n",
    "        lstm.eval()\n",
    "        for i in range(X_valid_data.size(0)):\n",
    "            inputs = X_valid_data[i].view(1,timestep,1)\n",
    "            targets = y_valid_data[i]\n",
    "            output, _ = lstm.forward(inputs.double(), state_in)\n",
    "            valid_loss = loss_fn(output.view(1), targets.view(1))\n",
    "\n",
    "        train_hist.append(callback(lstm, optimizer, epoch, loss, valid_loss))\n",
    "        print('Epoch: [{}/{}]\\t\\t Loss: {:.4f}\\t\\tValidation Loss: {:.4f}'\n",
    "              .format(epoch+1, end_epoch, loss, valid_loss))\n",
    "        \n",
    "    return train_hist"
   ]
  },
  {
   "cell_type": "code",
   "execution_count": 17,
   "id": "5be99ff7",
   "metadata": {},
   "outputs": [],
   "source": [
    "#define model class\n",
    "class LSTM(nn.Module):\n",
    "    def __init__(self, input_size, hidden_size, num_layer, output_size):\n",
    "        super(LSTM, self).__init__()\n",
    "        self.lstm = nn.LSTM(input_size, hidden_size, num_layer, batch_first= True) #lstm layer\n",
    "        self.linear = nn.Linear(hidden_size, output_size) #output layer\n",
    "        \n",
    "    def forward(self, X, state_in):\n",
    "        out, state_out = self.lstm(X, state_in)\n",
    "        out = self.linear(out[:,-1,:])\n",
    "        return out, state_out"
   ]
  },
  {
   "cell_type": "code",
   "execution_count": 2,
   "id": "25a4469b",
   "metadata": {},
   "outputs": [],
   "source": [
    "#import data from yahoo finance via pandas_datareader\n",
    "df = web.DataReader('AOT.BK', data_source= 'yahoo', end='2021-07-31')\n",
    "df = df.drop(['Close'], axis= 1)"
   ]
  },
  {
   "cell_type": "code",
   "execution_count": 3,
   "id": "d2b4c012",
   "metadata": {},
   "outputs": [
    {
     "data": {
      "text/html": [
       "<div>\n",
       "<style scoped>\n",
       "    .dataframe tbody tr th:only-of-type {\n",
       "        vertical-align: middle;\n",
       "    }\n",
       "\n",
       "    .dataframe tbody tr th {\n",
       "        vertical-align: top;\n",
       "    }\n",
       "\n",
       "    .dataframe thead th {\n",
       "        text-align: right;\n",
       "    }\n",
       "</style>\n",
       "<table border=\"1\" class=\"dataframe\">\n",
       "  <thead>\n",
       "    <tr style=\"text-align: right;\">\n",
       "      <th></th>\n",
       "      <th>High</th>\n",
       "      <th>Low</th>\n",
       "      <th>Open</th>\n",
       "      <th>Volume</th>\n",
       "      <th>Adj Close</th>\n",
       "    </tr>\n",
       "    <tr>\n",
       "      <th>Date</th>\n",
       "      <th></th>\n",
       "      <th></th>\n",
       "      <th></th>\n",
       "      <th></th>\n",
       "      <th></th>\n",
       "    </tr>\n",
       "  </thead>\n",
       "  <tbody>\n",
       "    <tr>\n",
       "      <th>2016-08-23</th>\n",
       "      <td>40.599998</td>\n",
       "      <td>39.900002</td>\n",
       "      <td>40.000000</td>\n",
       "      <td>19818000.0</td>\n",
       "      <td>37.950100</td>\n",
       "    </tr>\n",
       "    <tr>\n",
       "      <th>2016-08-24</th>\n",
       "      <td>40.799999</td>\n",
       "      <td>40.200001</td>\n",
       "      <td>40.400002</td>\n",
       "      <td>14772000.0</td>\n",
       "      <td>37.950100</td>\n",
       "    </tr>\n",
       "    <tr>\n",
       "      <th>2016-08-25</th>\n",
       "      <td>41.200001</td>\n",
       "      <td>39.900002</td>\n",
       "      <td>40.400002</td>\n",
       "      <td>29142000.0</td>\n",
       "      <td>38.510941</td>\n",
       "    </tr>\n",
       "    <tr>\n",
       "      <th>2016-08-26</th>\n",
       "      <td>41.000000</td>\n",
       "      <td>40.400002</td>\n",
       "      <td>40.799999</td>\n",
       "      <td>18367000.0</td>\n",
       "      <td>37.950100</td>\n",
       "    </tr>\n",
       "    <tr>\n",
       "      <th>2016-08-29</th>\n",
       "      <td>40.799999</td>\n",
       "      <td>40.000000</td>\n",
       "      <td>40.799999</td>\n",
       "      <td>14759000.0</td>\n",
       "      <td>37.950100</td>\n",
       "    </tr>\n",
       "    <tr>\n",
       "      <th>...</th>\n",
       "      <td>...</td>\n",
       "      <td>...</td>\n",
       "      <td>...</td>\n",
       "      <td>...</td>\n",
       "      <td>...</td>\n",
       "    </tr>\n",
       "    <tr>\n",
       "      <th>2021-07-22</th>\n",
       "      <td>59.000000</td>\n",
       "      <td>58.000000</td>\n",
       "      <td>58.750000</td>\n",
       "      <td>8649800.0</td>\n",
       "      <td>58.250000</td>\n",
       "    </tr>\n",
       "    <tr>\n",
       "      <th>2021-07-23</th>\n",
       "      <td>58.750000</td>\n",
       "      <td>57.750000</td>\n",
       "      <td>58.250000</td>\n",
       "      <td>7064200.0</td>\n",
       "      <td>58.250000</td>\n",
       "    </tr>\n",
       "    <tr>\n",
       "      <th>2021-07-27</th>\n",
       "      <td>59.500000</td>\n",
       "      <td>58.250000</td>\n",
       "      <td>58.750000</td>\n",
       "      <td>18468100.0</td>\n",
       "      <td>58.750000</td>\n",
       "    </tr>\n",
       "    <tr>\n",
       "      <th>2021-07-29</th>\n",
       "      <td>58.750000</td>\n",
       "      <td>57.000000</td>\n",
       "      <td>58.500000</td>\n",
       "      <td>30451600.0</td>\n",
       "      <td>57.250000</td>\n",
       "    </tr>\n",
       "    <tr>\n",
       "      <th>2021-07-30</th>\n",
       "      <td>57.250000</td>\n",
       "      <td>56.500000</td>\n",
       "      <td>57.250000</td>\n",
       "      <td>11893500.0</td>\n",
       "      <td>56.500000</td>\n",
       "    </tr>\n",
       "  </tbody>\n",
       "</table>\n",
       "<p>1203 rows × 5 columns</p>\n",
       "</div>"
      ],
      "text/plain": [
       "                 High        Low       Open      Volume  Adj Close\n",
       "Date                                                              \n",
       "2016-08-23  40.599998  39.900002  40.000000  19818000.0  37.950100\n",
       "2016-08-24  40.799999  40.200001  40.400002  14772000.0  37.950100\n",
       "2016-08-25  41.200001  39.900002  40.400002  29142000.0  38.510941\n",
       "2016-08-26  41.000000  40.400002  40.799999  18367000.0  37.950100\n",
       "2016-08-29  40.799999  40.000000  40.799999  14759000.0  37.950100\n",
       "...               ...        ...        ...         ...        ...\n",
       "2021-07-22  59.000000  58.000000  58.750000   8649800.0  58.250000\n",
       "2021-07-23  58.750000  57.750000  58.250000   7064200.0  58.250000\n",
       "2021-07-27  59.500000  58.250000  58.750000  18468100.0  58.750000\n",
       "2021-07-29  58.750000  57.000000  58.500000  30451600.0  57.250000\n",
       "2021-07-30  57.250000  56.500000  57.250000  11893500.0  56.500000\n",
       "\n",
       "[1203 rows x 5 columns]"
      ]
     },
     "execution_count": 3,
     "metadata": {},
     "output_type": "execute_result"
    }
   ],
   "source": [
    "df"
   ]
  },
  {
   "cell_type": "code",
   "execution_count": 4,
   "id": "054d077e",
   "metadata": {},
   "outputs": [
    {
     "data": {
      "text/plain": [
       "[<matplotlib.lines.Line2D at 0x7fcbfb012340>]"
      ]
     },
     "execution_count": 4,
     "metadata": {},
     "output_type": "execute_result"
    },
    {
     "data": {
      "image/png": "[encoded data removed]",
      "text/plain": [
       "<Figure size 1440x864 with 1 Axes>"
      ]
     },
     "metadata": {
      "needs_background": "light"
     },
     "output_type": "display_data"
    }
   ],
   "source": [
    "#visualize close price\n",
    "plt.figure(figsize = (20,12))\n",
    "plt.plot(df['Adj Close'])"
   ]
  },
  {
   "cell_type": "code",
   "execution_count": 5,
   "id": "7bee4126",
   "metadata": {},
   "outputs": [],
   "source": [
    "X = df.iloc[:,-1].values\n",
    "y = df.iloc[:,-1].values"
   ]
  },
  {
   "cell_type": "code",
   "execution_count": 7,
   "id": "b2269935",
   "metadata": {},
   "outputs": [],
   "source": [
    "X_train, X_valid, X_test, y_train, y_valid, y_test = train_valid_test_split(X, y, split_size= (0.7, 0.15, 0.15))"
   ]
  },
  {
   "cell_type": "code",
   "execution_count": null,
   "id": "d8a59ad7",
   "metadata": {},
   "outputs": [],
   "source": [
    "# #standardize the data\n",
    "# from sklearn.preprocessing import StandardScaler\n",
    "# X_scaler = StandardScaler()\n",
    "# X_train = X_scaler.fit_transform(X_train.reshape(-1,1))\n",
    "# X_valid = X_scaler.transform(X_valid.reshape(-1,1))\n",
    "# X_test = X_scaler.transform(X_test.reshape(-1,1))\n",
    "\n",
    "# y_scaler = StandardScaler()\n",
    "# y_train = y_scaler.fit_transform(y_train.reshape(-1,1))\n",
    "# y_valid = y_scaler.transform(y_valid.reshape(-1,1))\n",
    "# y_test = y_scaler.transform(y_test.reshape(-1,1))"
   ]
  },
  {
   "cell_type": "code",
   "execution_count": 8,
   "id": "b44e31a3",
   "metadata": {},
   "outputs": [],
   "source": [
    "#define params\n",
    "input_size = 1 #num of features\n",
    "hidden_size = 50 \n",
    "num_layer = 2 #num of LSTM layers\n",
    "output_size = 1 #predicting 1 data point at a time\n",
    "batch_size = 1\n",
    "num_epoch = 100\n",
    "timestep = 30"
   ]
  },
  {
   "cell_type": "code",
   "execution_count": 14,
   "id": "577d62f6",
   "metadata": {},
   "outputs": [],
   "source": [
    "X_train_data, y_train_data = timestep_batch(X_train, y_train, timestep)"
   ]
  },
  {
   "cell_type": "code",
   "execution_count": 16,
   "id": "3af05325",
   "metadata": {},
   "outputs": [],
   "source": [
    "X_valid_data, y_valid_data = timestep_batch_batch(X_valid, y_valid, timestep)"
   ]
  },
  {
   "cell_type": "code",
   "execution_count": 57,
   "id": "cce94df2",
   "metadata": {},
   "outputs": [
    {
     "data": {
      "text/plain": [
       "LSTM(\n",
       "  (lstm): LSTM(1, 50, num_layers=2, batch_first=True)\n",
       "  (linear): Linear(in_features=50, out_features=1, bias=True)\n",
       ")"
      ]
     },
     "execution_count": 57,
     "metadata": {},
     "output_type": "execute_result"
    }
   ],
   "source": [
    "#define model object\n",
    "lstm = LSTM(input_size, hidden_size, num_layer, output_size).double()\n",
    "lstm"
   ]
  },
  {
   "cell_type": "code",
   "execution_count": 58,
   "id": "65cbd7f9",
   "metadata": {},
   "outputs": [
    {
     "data": {
      "text/plain": [
       "L1Loss()"
      ]
     },
     "execution_count": 58,
     "metadata": {},
     "output_type": "execute_result"
    }
   ],
   "source": [
    "#define loss_fn\n",
    "loss_fn = nn.L1Loss()\n",
    "loss_fn"
   ]
  },
  {
   "cell_type": "code",
   "execution_count": 59,
   "id": "cc757632",
   "metadata": {},
   "outputs": [
    {
     "data": {
      "text/plain": [
       "Adam (\n",
       "Parameter Group 0\n",
       "    amsgrad: False\n",
       "    betas: (0.9, 0.999)\n",
       "    eps: 1e-08\n",
       "    lr: 0.0001\n",
       "    weight_decay: 0\n",
       ")"
      ]
     },
     "execution_count": 59,
     "metadata": {},
     "output_type": "execute_result"
    }
   ],
   "source": [
    "#define optimizer\n",
    "optimizer = torch.optim.Adam(lstm.parameters(), lr= 0.0001)\n",
    "optimizer"
   ]
  },
  {
   "cell_type": "code",
   "execution_count": 60,
   "id": "55eeb559",
   "metadata": {
    "scrolled": true
   },
   "outputs": [
    {
     "name": "stdout",
     "output_type": "stream",
     "text": [
      "name:  lstm.weight_ih_l0\n",
      "<class 'torch.nn.parameter.Parameter'>\n",
      "param.shape:  torch.Size([200, 1])\n",
      "param.requires_grad:  True\n",
      "=====\n",
      "name:  lstm.weight_hh_l0\n",
      "<class 'torch.nn.parameter.Parameter'>\n",
      "param.shape:  torch.Size([200, 50])\n",
      "param.requires_grad:  True\n",
      "=====\n",
      "name:  lstm.bias_ih_l0\n",
      "<class 'torch.nn.parameter.Parameter'>\n",
      "param.shape:  torch.Size([200])\n",
      "param.requires_grad:  True\n",
      "=====\n",
      "name:  lstm.bias_hh_l0\n",
      "<class 'torch.nn.parameter.Parameter'>\n",
      "param.shape:  torch.Size([200])\n",
      "param.requires_grad:  True\n",
      "=====\n",
      "name:  lstm.weight_ih_l1\n",
      "<class 'torch.nn.parameter.Parameter'>\n",
      "param.shape:  torch.Size([200, 50])\n",
      "param.requires_grad:  True\n",
      "=====\n",
      "name:  lstm.weight_hh_l1\n",
      "<class 'torch.nn.parameter.Parameter'>\n",
      "param.shape:  torch.Size([200, 50])\n",
      "param.requires_grad:  True\n",
      "=====\n",
      "name:  lstm.bias_ih_l1\n",
      "<class 'torch.nn.parameter.Parameter'>\n",
      "param.shape:  torch.Size([200])\n",
      "param.requires_grad:  True\n",
      "=====\n",
      "name:  lstm.bias_hh_l1\n",
      "<class 'torch.nn.parameter.Parameter'>\n",
      "param.shape:  torch.Size([200])\n",
      "param.requires_grad:  True\n",
      "=====\n",
      "name:  linear.weight\n",
      "<class 'torch.nn.parameter.Parameter'>\n",
      "param.shape:  torch.Size([1, 50])\n",
      "param.requires_grad:  True\n",
      "=====\n",
      "name:  linear.bias\n",
      "<class 'torch.nn.parameter.Parameter'>\n",
      "param.shape:  torch.Size([1])\n",
      "param.requires_grad:  True\n",
      "=====\n"
     ]
    }
   ],
   "source": [
    "for name, param in lstm.named_parameters():\n",
    "    print('name: ', name)\n",
    "    print(type(param))\n",
    "    print('param.shape: ', param.shape)\n",
    "    print('param.requires_grad: ', param.requires_grad)\n",
    "    print('=====')"
   ]
  },
  {
   "cell_type": "code",
   "execution_count": 62,
   "id": "789b6d10",
   "metadata": {
    "scrolled": true
   },
   "outputs": [
    {
     "name": "stdout",
     "output_type": "stream",
     "text": [
      "Epoch: [1/100]\t\t Loss: 60.9287\t\tValidation Loss: 44.5185\n",
      "Epoch: [2/100]\t\t Loss: 56.3843\t\tValidation Loss: 39.9745\n",
      "Epoch: [3/100]\t\t Loss: 52.1400\t\tValidation Loss: 35.7305\n",
      "Epoch: [4/100]\t\t Loss: 47.9586\t\tValidation Loss: 31.5491\n",
      "Epoch: [5/100]\t\t Loss: 43.8001\t\tValidation Loss: 27.3906\n",
      "Epoch: [6/100]\t\t Loss: 39.6511\t\tValidation Loss: 23.2416\n",
      "Epoch: [7/100]\t\t Loss: 35.5063\t\tValidation Loss: 19.0968\n",
      "Epoch: [8/100]\t\t Loss: 31.4145\t\tValidation Loss: 15.0050\n",
      "Epoch: [9/100]\t\t Loss: 28.1703\t\tValidation Loss: 11.7608\n",
      "Epoch: [10/100]\t\t Loss: 25.6200\t\tValidation Loss: 9.2105\n",
      "Epoch: [11/100]\t\t Loss: 23.1923\t\tValidation Loss: 6.7828\n",
      "Epoch: [12/100]\t\t Loss: 20.9279\t\tValidation Loss: 4.5183\n",
      "Epoch: [13/100]\t\t Loss: 18.7552\t\tValidation Loss: 2.3457\n",
      "Epoch: [14/100]\t\t Loss: 16.6540\t\tValidation Loss: 0.2445\n",
      "Epoch: [15/100]\t\t Loss: 14.7364\t\tValidation Loss: 1.6731\n",
      "Epoch: [16/100]\t\t Loss: 14.7034\t\tValidation Loss: 1.7044\n",
      "Epoch: [17/100]\t\t Loss: 13.2550\t\tValidation Loss: 3.1528\n",
      "Epoch: [18/100]\t\t Loss: 13.7462\t\tValidation Loss: 2.6339\n",
      "Epoch: [19/100]\t\t Loss: 10.2184\t\tValidation Loss: 6.1873\n",
      "Epoch: [20/100]\t\t Loss: 5.7617\t\tValidation Loss: 10.6533\n",
      "Epoch: [21/100]\t\t Loss: 4.4386\t\tValidation Loss: 11.9434\n",
      "Epoch: [22/100]\t\t Loss: 3.3048\t\tValidation Loss: 13.1040\n",
      "Epoch: [23/100]\t\t Loss: 2.6157\t\tValidation Loss: 13.7932\n",
      "Epoch: [24/100]\t\t Loss: 2.1068\t\tValidation Loss: 14.1130\n",
      "Epoch: [25/100]\t\t Loss: 1.9396\t\tValidation Loss: 14.2618\n",
      "Epoch: [26/100]\t\t Loss: 1.5005\t\tValidation Loss: 14.6318\n",
      "Epoch: [27/100]\t\t Loss: 1.1712\t\tValidation Loss: 14.9600\n",
      "Epoch: [28/100]\t\t Loss: 1.0896\t\tValidation Loss: 14.8286\n",
      "Epoch: [29/100]\t\t Loss: 0.7592\t\tValidation Loss: 15.5308\n",
      "Epoch: [30/100]\t\t Loss: 0.0810\t\tValidation Loss: 15.6352\n",
      "Epoch: [31/100]\t\t Loss: 0.4677\t\tValidation Loss: 15.0880\n",
      "Epoch: [32/100]\t\t Loss: 0.7467\t\tValidation Loss: 16.9347\n",
      "Epoch: [33/100]\t\t Loss: 1.0765\t\tValidation Loss: 15.8991\n",
      "Epoch: [34/100]\t\t Loss: 1.4513\t\tValidation Loss: 16.7227\n",
      "Epoch: [35/100]\t\t Loss: 1.7687\t\tValidation Loss: 12.6607\n",
      "Epoch: [36/100]\t\t Loss: 2.0453\t\tValidation Loss: 14.6411\n",
      "Epoch: [37/100]\t\t Loss: 2.6815\t\tValidation Loss: 16.2888\n",
      "Epoch: [38/100]\t\t Loss: 2.9951\t\tValidation Loss: 10.8503\n",
      "Epoch: [39/100]\t\t Loss: 3.2449\t\tValidation Loss: 15.0791\n",
      "Epoch: [40/100]\t\t Loss: 3.7236\t\tValidation Loss: 13.6898\n",
      "Epoch: [41/100]\t\t Loss: 3.9784\t\tValidation Loss: 11.4836\n",
      "Epoch: [42/100]\t\t Loss: 3.9673\t\tValidation Loss: 12.4970\n",
      "Epoch: [43/100]\t\t Loss: 4.3011\t\tValidation Loss: 12.8309\n",
      "Epoch: [44/100]\t\t Loss: 4.5548\t\tValidation Loss: 12.8909\n",
      "Epoch: [45/100]\t\t Loss: 4.4092\t\tValidation Loss: 9.4395\n",
      "Epoch: [46/100]\t\t Loss: 4.8696\t\tValidation Loss: 14.8135\n",
      "Epoch: [47/100]\t\t Loss: 4.6764\t\tValidation Loss: 11.6190\n",
      "Epoch: [48/100]\t\t Loss: 4.6672\t\tValidation Loss: 12.2964\n",
      "Epoch: [49/100]\t\t Loss: 5.0348\t\tValidation Loss: 13.1785\n",
      "Epoch: [50/100]\t\t Loss: 4.7978\t\tValidation Loss: 11.6873\n",
      "Epoch: [51/100]\t\t Loss: 4.7776\t\tValidation Loss: 13.6651\n",
      "Epoch: [52/100]\t\t Loss: 4.8524\t\tValidation Loss: 11.5748\n",
      "Epoch: [53/100]\t\t Loss: 5.3228\t\tValidation Loss: 13.6022\n",
      "Epoch: [54/100]\t\t Loss: 4.8328\t\tValidation Loss: 12.5884\n",
      "Epoch: [55/100]\t\t Loss: 4.8881\t\tValidation Loss: 12.5579\n",
      "Epoch: [56/100]\t\t Loss: 4.8324\t\tValidation Loss: 11.4813\n",
      "Epoch: [57/100]\t\t Loss: 4.7147\t\tValidation Loss: 11.0468\n",
      "Epoch: [58/100]\t\t Loss: 4.6043\t\tValidation Loss: 10.7338\n",
      "Epoch: [59/100]\t\t Loss: 5.2251\t\tValidation Loss: 12.1914\n",
      "Epoch: [60/100]\t\t Loss: 4.4717\t\tValidation Loss: 9.3933\n",
      "Epoch: [61/100]\t\t Loss: 4.8877\t\tValidation Loss: 10.8553\n",
      "Epoch: [62/100]\t\t Loss: 4.2789\t\tValidation Loss: 8.6389\n",
      "Epoch: [63/100]\t\t Loss: 4.5938\t\tValidation Loss: 11.5441\n",
      "Epoch: [64/100]\t\t Loss: 4.5579\t\tValidation Loss: 7.1373\n",
      "Epoch: [65/100]\t\t Loss: 4.4002\t\tValidation Loss: 8.9866\n",
      "Epoch: [66/100]\t\t Loss: 4.3769\t\tValidation Loss: 9.6973\n",
      "Epoch: [67/100]\t\t Loss: 5.3276\t\tValidation Loss: 10.8585\n",
      "Epoch: [68/100]\t\t Loss: 5.3526\t\tValidation Loss: 9.5008\n",
      "Epoch: [69/100]\t\t Loss: 4.3095\t\tValidation Loss: 8.0641\n",
      "Epoch: [70/100]\t\t Loss: 3.6816\t\tValidation Loss: 8.4891\n",
      "Epoch: [71/100]\t\t Loss: 4.7552\t\tValidation Loss: 11.1727\n",
      "Epoch: [72/100]\t\t Loss: 4.5035\t\tValidation Loss: 11.1547\n",
      "Epoch: [73/100]\t\t Loss: 3.5668\t\tValidation Loss: 10.2468\n",
      "Epoch: [74/100]\t\t Loss: 4.0849\t\tValidation Loss: 10.3280\n",
      "Epoch: [75/100]\t\t Loss: 4.3714\t\tValidation Loss: 10.1983\n",
      "Epoch: [76/100]\t\t Loss: 3.5955\t\tValidation Loss: 9.9930\n",
      "Epoch: [77/100]\t\t Loss: 3.4063\t\tValidation Loss: 9.2634\n",
      "Epoch: [78/100]\t\t Loss: 2.9775\t\tValidation Loss: 10.3096\n",
      "Epoch: [79/100]\t\t Loss: 1.9428\t\tValidation Loss: 9.8952\n",
      "Epoch: [80/100]\t\t Loss: 5.6919\t\tValidation Loss: 10.5651\n",
      "Epoch: [81/100]\t\t Loss: 3.1225\t\tValidation Loss: 9.8034\n",
      "Epoch: [82/100]\t\t Loss: 3.4567\t\tValidation Loss: 11.1921\n",
      "Epoch: [83/100]\t\t Loss: 3.1505\t\tValidation Loss: 9.9914\n",
      "Epoch: [84/100]\t\t Loss: 3.0351\t\tValidation Loss: 11.3075\n",
      "Epoch: [85/100]\t\t Loss: 1.4234\t\tValidation Loss: 4.6936\n",
      "Epoch: [86/100]\t\t Loss: 2.0548\t\tValidation Loss: 9.6304\n",
      "Epoch: [87/100]\t\t Loss: 1.0867\t\tValidation Loss: 9.2103\n",
      "Epoch: [88/100]\t\t Loss: 4.0319\t\tValidation Loss: 9.6594\n",
      "Epoch: [89/100]\t\t Loss: 1.7063\t\tValidation Loss: 7.6600\n",
      "Epoch: [90/100]\t\t Loss: 1.5926\t\tValidation Loss: 8.4061\n",
      "Epoch: [91/100]\t\t Loss: 2.5291\t\tValidation Loss: 9.0635\n",
      "Epoch: [92/100]\t\t Loss: 2.4018\t\tValidation Loss: 7.2183\n",
      "Epoch: [93/100]\t\t Loss: 2.2643\t\tValidation Loss: 9.8903\n",
      "Epoch: [94/100]\t\t Loss: 1.8307\t\tValidation Loss: 11.4093\n",
      "Epoch: [95/100]\t\t Loss: 2.0329\t\tValidation Loss: 8.1791\n",
      "Epoch: [96/100]\t\t Loss: 5.7382\t\tValidation Loss: 11.3830\n",
      "Epoch: [97/100]\t\t Loss: 2.4110\t\tValidation Loss: 4.2784\n",
      "Epoch: [98/100]\t\t Loss: 1.2533\t\tValidation Loss: 13.1780\n",
      "Epoch: [99/100]\t\t Loss: 2.7187\t\tValidation Loss: 9.7362\n",
      "Epoch: [100/100]\t\t Loss: 1.9644\t\tValidation Loss: 10.0748\n",
      "CPU times: user 17min 40s, sys: 13.8 s, total: 17min 54s\n",
      "Wall time: 18min 1s\n"
     ]
    }
   ],
   "source": [
    "%%time\n",
    "#train model \n",
    "train_hist = fit_lstm(X_train_data, y_train_data, X_valid_data, y_valid_data,\n",
    "                      num_layer, batch_size, hidden_size,\n",
    "                      lstm, loss_fn, optimizer,\n",
    "                      num_epoch, start_epoch=0)"
   ]
  },
  {
   "cell_type": "code",
   "execution_count": 65,
   "id": "0a5b30f5",
   "metadata": {
    "scrolled": true
   },
   "outputs": [
    {
     "data": {
      "text/plain": [
       "epoch                                                       100\n",
       "loss          tensor(1.9644, dtype=torch.float64, grad_fn=<L...\n",
       "valid_loss    tensor(10.0748, dtype=torch.float64, grad_fn=<...\n",
       "param         {'lstm.weight_ih_l0': [[tensor(0.1750, dtype=t...\n",
       "optim         {'state': {0: {'step': 81200, 'exp_avg': tenso...\n",
       "Name: 99, dtype: object"
      ]
     },
     "execution_count": 65,
     "metadata": {},
     "output_type": "execute_result"
    }
   ],
   "source": [
    "checkpoint = pd.DataFrame(train_hist)\n",
    "checkpoint.iloc[-1]\n",
    "# loss_hist = X_scaler.inverse_transform(loss_hist)"
   ]
  },
  {
   "cell_type": "code",
   "execution_count": 66,
   "id": "2ded6f88",
   "metadata": {
    "scrolled": true
   },
   "outputs": [
    {
     "data": {
      "text/plain": [
       "[<matplotlib.lines.Line2D at 0x7fcbfd716a00>]"
      ]
     },
     "execution_count": 66,
     "metadata": {},
     "output_type": "execute_result"
    },
    {
     "data": {
      "image/png": "[encoded data removed]",
      "text/plain": [
       "<Figure size 432x288 with 1 Axes>"
      ]
     },
     "metadata": {
      "needs_background": "light"
     },
     "output_type": "display_data"
    }
   ],
   "source": [
    "plt.plot(checkpoint['loss'].values)"
   ]
  },
  {
   "cell_type": "code",
   "execution_count": 67,
   "id": "03070383",
   "metadata": {
    "scrolled": true
   },
   "outputs": [],
   "source": [
    "#save last checkpoint\n",
    "last_ckp = checkpoint.iloc[-1]\n",
    "torch.save(last_ckp, 'lstm_ckps/ckp_{}.pth'.format(last_ckp['epoch']))"
   ]
  },
  {
   "cell_type": "code",
   "execution_count": 77,
   "id": "7c1c6d9a",
   "metadata": {
    "scrolled": true
   },
   "outputs": [
    {
     "data": {
      "text/plain": [
       "LSTM(\n",
       "  (lstm): LSTM(1, 50, num_layers=2, batch_first=True)\n",
       "  (linear): Linear(in_features=50, out_features=1, bias=True)\n",
       ")"
      ]
     },
     "execution_count": 77,
     "metadata": {},
     "output_type": "execute_result"
    }
   ],
   "source": [
    "#re-define lstm model\n",
    "lstm = LSTM(input_size, hidden_size, num_layer, output_size).double()\n",
    "lstm"
   ]
  },
  {
   "cell_type": "code",
   "execution_count": 78,
   "id": "1cc2b36f",
   "metadata": {},
   "outputs": [
    {
     "data": {
      "text/plain": [
       "Adam (\n",
       "Parameter Group 0\n",
       "    amsgrad: False\n",
       "    betas: (0.9, 0.999)\n",
       "    eps: 1e-08\n",
       "    lr: 1e-05\n",
       "    weight_decay: 0\n",
       ")"
      ]
     },
     "execution_count": 78,
     "metadata": {},
     "output_type": "execute_result"
    }
   ],
   "source": [
    "#re-define optimizer as Adam with reducing learning rate to 0.00001\n",
    "optimizer = torch.optim.Adam(lstm.parameters(), lr= 0.00001)\n",
    "optimizer"
   ]
  },
  {
   "cell_type": "code",
   "execution_count": 79,
   "id": "ad814ac7",
   "metadata": {
    "scrolled": false
   },
   "outputs": [
    {
     "data": {
      "text/plain": [
       "epoch                                                       100\n",
       "loss          tensor(1.9644, dtype=torch.float64, requires_g...\n",
       "valid_loss    tensor(10.0748, dtype=torch.float64, requires_...\n",
       "param         {'lstm.weight_ih_l0': [[tensor(0.1750, dtype=t...\n",
       "optim         {'state': {0: {'step': 81200, 'exp_avg': tenso...\n",
       "Name: 99, dtype: object"
      ]
     },
     "execution_count": 79,
     "metadata": {},
     "output_type": "execute_result"
    }
   ],
   "source": [
    "#load checkpoint\n",
    "resume_ckp = torch.load('lstm_ckps/ckp_{}.pth'.format(last_ckp['epoch']))\n",
    "resume_ckp"
   ]
  },
  {
   "cell_type": "code",
   "execution_count": 80,
   "id": "a7dd0e32",
   "metadata": {},
   "outputs": [],
   "source": [
    "#load state to the model\n",
    "lstm.load_state_dict(resume_ckp['param'])\n",
    "#load state to the optimizer\n",
    "optimizer.load_state_dict(resume_ckp['optim'])"
   ]
  },
  {
   "cell_type": "code",
   "execution_count": 81,
   "id": "2c1a7de2",
   "metadata": {},
   "outputs": [
    {
     "data": {
      "text/plain": [
       "100"
      ]
     },
     "execution_count": 81,
     "metadata": {},
     "output_type": "execute_result"
    }
   ],
   "source": [
    "resume_epoch = resume_ckp['epoch']\n",
    "resume_epoch"
   ]
  },
  {
   "cell_type": "code",
   "execution_count": 82,
   "id": "075cd169",
   "metadata": {},
   "outputs": [
    {
     "data": {
      "text/plain": [
       "200"
      ]
     },
     "execution_count": 82,
     "metadata": {},
     "output_type": "execute_result"
    }
   ],
   "source": [
    "end_epoch = resume_epoch+num_epoch\n",
    "end_epoch"
   ]
  },
  {
   "cell_type": "code",
   "execution_count": 83,
   "id": "79812720",
   "metadata": {
    "scrolled": true
   },
   "outputs": [
    {
     "name": "stdout",
     "output_type": "stream",
     "text": [
      "Epoch: [101/200]\t\t Loss: 2.1570\t\tValidation Loss: 10.4757\n",
      "Epoch: [102/200]\t\t Loss: 2.4252\t\tValidation Loss: 10.3161\n",
      "Epoch: [103/200]\t\t Loss: 0.6518\t\tValidation Loss: 11.4442\n",
      "Epoch: [104/200]\t\t Loss: 0.4573\t\tValidation Loss: 11.0273\n",
      "Epoch: [105/200]\t\t Loss: 1.7801\t\tValidation Loss: 4.3767\n",
      "Epoch: [106/200]\t\t Loss: 1.1887\t\tValidation Loss: 10.2147\n",
      "Epoch: [107/200]\t\t Loss: 0.3276\t\tValidation Loss: 7.7738\n",
      "Epoch: [108/200]\t\t Loss: 1.1037\t\tValidation Loss: 10.0954\n",
      "Epoch: [109/200]\t\t Loss: 7.6551\t\tValidation Loss: 9.8851\n",
      "Epoch: [110/200]\t\t Loss: 3.6519\t\tValidation Loss: 9.7343\n",
      "Epoch: [111/200]\t\t Loss: 1.3580\t\tValidation Loss: 9.4642\n",
      "Epoch: [112/200]\t\t Loss: 1.2033\t\tValidation Loss: 8.4728\n",
      "Epoch: [113/200]\t\t Loss: 0.6338\t\tValidation Loss: 7.0571\n",
      "Epoch: [114/200]\t\t Loss: 4.5583\t\tValidation Loss: 9.4498\n",
      "Epoch: [115/200]\t\t Loss: 1.8189\t\tValidation Loss: 8.6313\n",
      "Epoch: [116/200]\t\t Loss: 1.9495\t\tValidation Loss: 10.2000\n",
      "Epoch: [117/200]\t\t Loss: 2.0806\t\tValidation Loss: 9.5943\n",
      "Epoch: [118/200]\t\t Loss: 2.1907\t\tValidation Loss: 9.4262\n",
      "Epoch: [119/200]\t\t Loss: 2.5869\t\tValidation Loss: 5.9046\n",
      "Epoch: [120/200]\t\t Loss: 0.0445\t\tValidation Loss: 9.5819\n",
      "Epoch: [121/200]\t\t Loss: 0.7949\t\tValidation Loss: 10.1421\n",
      "Epoch: [122/200]\t\t Loss: 2.4683\t\tValidation Loss: 8.9451\n",
      "Epoch: [123/200]\t\t Loss: 0.3024\t\tValidation Loss: 5.0339\n",
      "Epoch: [124/200]\t\t Loss: 0.6625\t\tValidation Loss: 9.6476\n",
      "Epoch: [125/200]\t\t Loss: 3.1631\t\tValidation Loss: 10.8184\n",
      "Epoch: [126/200]\t\t Loss: 0.6873\t\tValidation Loss: 8.7976\n",
      "Epoch: [127/200]\t\t Loss: 2.0435\t\tValidation Loss: 8.9997\n",
      "Epoch: [128/200]\t\t Loss: 1.3821\t\tValidation Loss: 5.0878\n",
      "Epoch: [129/200]\t\t Loss: 0.9580\t\tValidation Loss: 7.2149\n",
      "Epoch: [130/200]\t\t Loss: 1.8520\t\tValidation Loss: 10.2803\n",
      "Epoch: [131/200]\t\t Loss: 0.3802\t\tValidation Loss: 7.2693\n",
      "Epoch: [132/200]\t\t Loss: 0.6382\t\tValidation Loss: 8.6717\n",
      "Epoch: [133/200]\t\t Loss: 0.2678\t\tValidation Loss: 10.8196\n",
      "Epoch: [134/200]\t\t Loss: 2.4310\t\tValidation Loss: 11.5862\n",
      "Epoch: [135/200]\t\t Loss: 1.5643\t\tValidation Loss: 7.7805\n",
      "Epoch: [136/200]\t\t Loss: 1.0938\t\tValidation Loss: 12.5798\n",
      "Epoch: [137/200]\t\t Loss: 0.5063\t\tValidation Loss: 5.6932\n",
      "Epoch: [138/200]\t\t Loss: 0.2361\t\tValidation Loss: 10.2142\n",
      "Epoch: [139/200]\t\t Loss: 1.9402\t\tValidation Loss: 12.2638\n",
      "Epoch: [140/200]\t\t Loss: 0.2475\t\tValidation Loss: 8.6652\n",
      "Epoch: [141/200]\t\t Loss: 0.1662\t\tValidation Loss: 7.1910\n",
      "Epoch: [142/200]\t\t Loss: 0.7468\t\tValidation Loss: 12.6523\n",
      "Epoch: [143/200]\t\t Loss: 0.0393\t\tValidation Loss: 12.3360\n",
      "Epoch: [144/200]\t\t Loss: 0.7698\t\tValidation Loss: 2.8314\n",
      "Epoch: [145/200]\t\t Loss: 2.6132\t\tValidation Loss: 12.1819\n",
      "Epoch: [146/200]\t\t Loss: 0.3872\t\tValidation Loss: 5.3258\n",
      "Epoch: [147/200]\t\t Loss: 0.0987\t\tValidation Loss: 8.2167\n",
      "Epoch: [148/200]\t\t Loss: 1.6571\t\tValidation Loss: 12.8256\n",
      "Epoch: [149/200]\t\t Loss: 0.4139\t\tValidation Loss: 10.0868\n",
      "Epoch: [150/200]\t\t Loss: 0.6258\t\tValidation Loss: 3.7647\n",
      "Epoch: [151/200]\t\t Loss: 0.9828\t\tValidation Loss: 8.2566\n",
      "Epoch: [152/200]\t\t Loss: 0.2349\t\tValidation Loss: 5.6187\n",
      "Epoch: [153/200]\t\t Loss: 0.7971\t\tValidation Loss: 8.4391\n",
      "Epoch: [154/200]\t\t Loss: 0.3933\t\tValidation Loss: 9.7692\n",
      "Epoch: [155/200]\t\t Loss: 0.3938\t\tValidation Loss: 9.3932\n",
      "Epoch: [156/200]\t\t Loss: 0.0369\t\tValidation Loss: 10.5530\n",
      "Epoch: [157/200]\t\t Loss: 0.1390\t\tValidation Loss: 5.3999\n",
      "Epoch: [158/200]\t\t Loss: 1.1272\t\tValidation Loss: 11.1660\n",
      "Epoch: [159/200]\t\t Loss: 1.6858\t\tValidation Loss: 9.6496\n",
      "Epoch: [160/200]\t\t Loss: 3.4769\t\tValidation Loss: 12.5803\n",
      "Epoch: [161/200]\t\t Loss: 0.8931\t\tValidation Loss: 7.3758\n",
      "Epoch: [162/200]\t\t Loss: 1.2917\t\tValidation Loss: 5.8487\n",
      "Epoch: [163/200]\t\t Loss: 0.6699\t\tValidation Loss: 9.5269\n",
      "Epoch: [164/200]\t\t Loss: 0.3528\t\tValidation Loss: 10.8577\n",
      "Epoch: [165/200]\t\t Loss: 0.4731\t\tValidation Loss: 11.1721\n",
      "Epoch: [166/200]\t\t Loss: 0.4430\t\tValidation Loss: 5.4212\n",
      "Epoch: [167/200]\t\t Loss: 0.3988\t\tValidation Loss: 9.1408\n",
      "Epoch: [168/200]\t\t Loss: 1.8765\t\tValidation Loss: 6.9826\n",
      "Epoch: [169/200]\t\t Loss: 0.5539\t\tValidation Loss: 7.6421\n",
      "Epoch: [170/200]\t\t Loss: 0.1054\t\tValidation Loss: 9.0499\n",
      "Epoch: [171/200]\t\t Loss: 0.2485\t\tValidation Loss: 9.3667\n",
      "Epoch: [172/200]\t\t Loss: 0.2280\t\tValidation Loss: 9.2005\n",
      "Epoch: [173/200]\t\t Loss: 1.4558\t\tValidation Loss: 2.8384\n",
      "Epoch: [174/200]\t\t Loss: 0.2123\t\tValidation Loss: 11.8987\n",
      "Epoch: [175/200]\t\t Loss: 0.6676\t\tValidation Loss: 4.6881\n",
      "Epoch: [176/200]\t\t Loss: 0.0358\t\tValidation Loss: 10.2097\n",
      "Epoch: [177/200]\t\t Loss: 0.0808\t\tValidation Loss: 11.7970\n",
      "Epoch: [178/200]\t\t Loss: 0.5659\t\tValidation Loss: 4.7746\n",
      "Epoch: [179/200]\t\t Loss: 0.9858\t\tValidation Loss: 5.1947\n",
      "Epoch: [180/200]\t\t Loss: 0.7159\t\tValidation Loss: 4.3452\n",
      "Epoch: [181/200]\t\t Loss: 0.5436\t\tValidation Loss: 6.3778\n",
      "Epoch: [182/200]\t\t Loss: 2.0344\t\tValidation Loss: 10.8470\n",
      "Epoch: [183/200]\t\t Loss: 2.2589\t\tValidation Loss: 9.1512\n",
      "Epoch: [184/200]\t\t Loss: 1.2410\t\tValidation Loss: 3.0266\n",
      "Epoch: [185/200]\t\t Loss: 1.1617\t\tValidation Loss: 9.9304\n",
      "Epoch: [186/200]\t\t Loss: 1.0835\t\tValidation Loss: 9.2790\n",
      "Epoch: [187/200]\t\t Loss: 0.8052\t\tValidation Loss: 5.0048\n",
      "Epoch: [188/200]\t\t Loss: 1.9817\t\tValidation Loss: 9.9997\n",
      "Epoch: [189/200]\t\t Loss: 0.6702\t\tValidation Loss: 9.1828\n",
      "Epoch: [190/200]\t\t Loss: 0.6784\t\tValidation Loss: 7.9223\n",
      "Epoch: [191/200]\t\t Loss: 0.3179\t\tValidation Loss: 7.4140\n",
      "Epoch: [192/200]\t\t Loss: 0.4607\t\tValidation Loss: 10.6520\n",
      "Epoch: [193/200]\t\t Loss: 0.4604\t\tValidation Loss: 9.5406\n",
      "Epoch: [194/200]\t\t Loss: 1.8117\t\tValidation Loss: 3.3353\n",
      "Epoch: [195/200]\t\t Loss: 1.1683\t\tValidation Loss: 10.1831\n",
      "Epoch: [196/200]\t\t Loss: 1.9020\t\tValidation Loss: 10.8885\n",
      "Epoch: [197/200]\t\t Loss: 1.7789\t\tValidation Loss: 1.5499\n",
      "Epoch: [198/200]\t\t Loss: 0.6508\t\tValidation Loss: 10.5980\n",
      "Epoch: [199/200]\t\t Loss: 0.8257\t\tValidation Loss: 10.0647\n",
      "Epoch: [200/200]\t\t Loss: 1.2383\t\tValidation Loss: 11.0128\n",
      "CPU times: user 18min 37s, sys: 18.3 s, total: 18min 55s\n",
      "Wall time: 19min 45s\n"
     ]
    }
   ],
   "source": [
    "%%time\n",
    "#continue training more epoch with lower learing rate \n",
    "train_hist = fit_lstm(X_train_data, y_train_data, X_valid_data, y_valid_data,\n",
    "                      num_layer, batch_size, hidden_size,\n",
    "                      lstm, loss_fn, optimizer,\n",
    "                      num_epoch, start_epoch=resume_epoch)"
   ]
  },
  {
   "cell_type": "code",
   "execution_count": 110,
   "id": "f0fe472a",
   "metadata": {},
   "outputs": [
    {
     "data": {
      "text/plain": [
       "epoch                                                       200\n",
       "loss          tensor(1.2383, dtype=torch.float64, grad_fn=<L...\n",
       "valid_loss    tensor(11.0128, dtype=torch.float64, grad_fn=<...\n",
       "param         {'lstm.weight_ih_l0': [[tensor(0.3673, dtype=t...\n",
       "optim         {'state': {0: {'step': 162400, 'exp_avg': tens...\n",
       "Name: 99, dtype: object"
      ]
     },
     "execution_count": 110,
     "metadata": {},
     "output_type": "execute_result"
    }
   ],
   "source": [
    "checkpoint = pd.DataFrame(train_hist)\n",
    "checkpoint.iloc[-1]"
   ]
  },
  {
   "cell_type": "code",
   "execution_count": 112,
   "id": "1cfe271a",
   "metadata": {},
   "outputs": [
    {
     "data": {
      "text/plain": [
       "[<matplotlib.lines.Line2D at 0x7fcbd813ad30>]"
      ]
     },
     "execution_count": 112,
     "metadata": {},
     "output_type": "execute_result"
    },
    {
     "data": {
      "image/png": "[encoded data removed]",
      "text/plain": [
       "<Figure size 432x288 with 1 Axes>"
      ]
     },
     "metadata": {
      "needs_background": "light"
     },
     "output_type": "display_data"
    }
   ],
   "source": [
    "plt.plot(checkpoint['loss'])"
   ]
  },
  {
   "cell_type": "code",
   "execution_count": 111,
   "id": "1366ca8f",
   "metadata": {
    "scrolled": true
   },
   "outputs": [
    {
     "data": {
      "text/plain": [
       "[<matplotlib.lines.Line2D at 0x7fcbd818ea00>]"
      ]
     },
     "execution_count": 111,
     "metadata": {},
     "output_type": "execute_result"
    },
    {
     "data": {
      "image/png": "[encoded data removed]",
      "text/plain": [
       "<Figure size 432x288 with 1 Axes>"
      ]
     },
     "metadata": {
      "needs_background": "light"
     },
     "output_type": "display_data"
    }
   ],
   "source": [
    "plt.plot(checkpoint['valid_loss'])"
   ]
  },
  {
   "cell_type": "code",
   "execution_count": 104,
   "id": "b762daff",
   "metadata": {},
   "outputs": [],
   "source": [
    "last_ckp = checkpoint.iloc[-1]\n",
    "torch.save(last_ckp, 'lstm_ckps/ckp_{}.pth'.format(last_ckp['epoch']))"
   ]
  },
  {
   "cell_type": "code",
   "execution_count": null,
   "id": "ab958fcb",
   "metadata": {},
   "outputs": [],
   "source": [
    "#re-train again with lower training rate\n",
    "lstm = LSTM(input_size, hidden_size, num_layer, output_size).double()\n",
    "optimizer = torch.optim.Adam(lstm.parameters(), lr= 0.000001)"
   ]
  },
  {
   "cell_type": "code",
   "execution_count": null,
   "id": "91d538ea",
   "metadata": {},
   "outputs": [],
   "source": [
    "def Min_Loss(loss_series):\n",
    "    min_loss = loss_series[0].item()\n",
    "    min_idx = 0\n",
    "    for idx in range(len(loss_series)):\n",
    "        if loss_series[idx].item() < min_loss:\n",
    "            min_loss = loss_series[idx].item()\n",
    "            min_idx = idx\n",
    "    return (min_loss, min_idx)"
   ]
  },
  {
   "cell_type": "code",
   "execution_count": null,
   "id": "8ccdf16d",
   "metadata": {
    "scrolled": true
   },
   "outputs": [],
   "source": [
    "best_valid_ckp = new_ckp.iloc[Min_Loss(new_ckp['valid_loss'])[-1]]\n",
    "best_valid_ckp"
   ]
  },
  {
   "cell_type": "code",
   "execution_count": null,
   "id": "5190b443",
   "metadata": {},
   "outputs": [],
   "source": [
    "torch.save(best_valid_ckp, 'lstm_ckps/best_valid.pth')"
   ]
  },
  {
   "cell_type": "code",
   "execution_count": null,
   "id": "3e1d636d",
   "metadata": {},
   "outputs": [],
   "source": [
    "best_train_ckp = new_ckp.iloc[Min_Loss(new_ckp['loss'])[-1]]\n",
    "best_train_ckp"
   ]
  },
  {
   "cell_type": "code",
   "execution_count": null,
   "id": "94869839",
   "metadata": {},
   "outputs": [],
   "source": [
    "torch.save(best_train_ckp, 'lstm_ckps/best_train.pth')"
   ]
  },
  {
   "cell_type": "code",
   "execution_count": null,
   "id": "cf8ef017",
   "metadata": {},
   "outputs": [],
   "source": [
    "last_ckp = new_ckp.iloc[-1]\n",
    "last_ckp"
   ]
  },
  {
   "cell_type": "code",
   "execution_count": null,
   "id": "9acec720",
   "metadata": {},
   "outputs": [],
   "source": [
    "torch.save(last_ckp, 'lstm_ckps/ckp_{}.pth'.format(last_ckp['epoch']))"
   ]
  },
  {
   "cell_type": "code",
   "execution_count": null,
   "id": "2e9fa88c",
   "metadata": {},
   "outputs": [],
   "source": [
    "#model testing preprocess\n",
    "X_test_data = []\n",
    "y_test_data = []\n",
    "for i in range(timestep, len(X_test)):\n",
    "    X_test_data.append(X_test[i-timestep:i])\n",
    "    y_test_data.append(y_test[i])\n",
    "\n",
    "\n",
    "# test_data\n",
    "X_test_data = torch.DoubleTensor(X_test_data)\n",
    "y_test_data = torch.DoubleTensor(y_test_data)"
   ]
  },
  {
   "cell_type": "code",
   "execution_count": null,
   "id": "83fc9b52",
   "metadata": {},
   "outputs": [],
   "source": [
    "#load train model\n",
    "lstm = LSTM(input_size, hidden_size, num_layer, output_size).double()\n",
    "train_ckp = torch.load('lstm_ckps/ckp_100.pth')\n",
    "lstm.load_state_dict(train_ckp['param'])\n",
    "\n",
    "#train prediction\n",
    "state_in = (torch.zeros(num_layer, batch_size, hidden_size).double(),\n",
    "            torch.zeros(num_layer, batch_size, hidden_size).double()\n",
    "           )\n",
    "\n",
    "train_pred = []\n",
    "\n",
    "#shift data\n",
    "for i in range(timestep):\n",
    "    train_pred.append(None)\n",
    "\n",
    "for i in range(X_train_data.size(0)):\n",
    "    inputs = X_train_data[i].view(1,timestep,1)\n",
    "    #forward propagation\n",
    "    output, _ = lstm.forward(inputs.double(), state_in)\n",
    "    train_pred.append(output.item())\n",
    "    \n",
    "#shift data\n",
    "for i in range(timestep):\n",
    "    train_pred.append(None)\n",
    "    \n",
    "for i in range(X_valid_data.size(0)):\n",
    "    inputs = X_valid_data[i].view(1,timestep,1)\n",
    "    #forward propagation\n",
    "    output, _ = lstm.forward(inputs.double(), state_in)\n",
    "    train_pred.append(output.item())\n",
    "    \n",
    "#shift data\n",
    "for i in range(timestep):\n",
    "    train_pred.append(None)\n",
    "    \n",
    "for i in range(X_test_data.size(0)):\n",
    "    inputs = X_test_data[i].view(1,timestep,1)\n",
    "    #forward propagation\n",
    "    output, _ = lstm.forward(inputs.double(), state_in)\n",
    "    train_pred.append(output.item())"
   ]
  },
  {
   "cell_type": "code",
   "execution_count": null,
   "id": "6991890b",
   "metadata": {},
   "outputs": [],
   "source": [
    "#inverse transform\n",
    "#train_pred = list(y_scaler.inverse_transform(train_pred))"
   ]
  },
  {
   "cell_type": "code",
   "execution_count": null,
   "id": "e57cfff8",
   "metadata": {},
   "outputs": [],
   "source": [
    "# #shift data\n",
    "# for i in range(timestep):\n",
    "#     train_pred.insert(0, None)"
   ]
  },
  {
   "cell_type": "code",
   "execution_count": null,
   "id": "e3ce1131",
   "metadata": {
    "scrolled": true
   },
   "outputs": [],
   "source": [
    "plt.plot(train_pred)\n",
    "plt.plot(X)"
   ]
  }
 ],
 "metadata": {
  "kernelspec": {
   "display_name": "Python 3",
   "language": "python",
   "name": "python3"
  },
  "language_info": {
   "codemirror_mode": {
    "name": "ipython",
    "version": 3
   },
   "file_extension": ".py",
   "mimetype": "text/x-python",
   "name": "python",
   "nbconvert_exporter": "python",
   "pygments_lexer": "ipython3",
   "version": "3.8.8"
  }
 },
 "nbformat": 4,
 "nbformat_minor": 5
}
